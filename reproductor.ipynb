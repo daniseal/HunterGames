{
 "cells": [
  {
   "cell_type": "code",
   "execution_count": null,
   "id": "initial_id",
   "metadata": {
    "collapsed": true
   },
   "outputs": [],
   "source": []
  },
  {
   "cell_type": "code",
   "execution_count": null,
   "id": "f1edbc9e9d2ee3c1",
   "metadata": {
    "ExecuteTime": {
     "end_time": "2024-09-08T20:57:20.798677Z",
     "start_time": "2024-09-08T20:48:22.088050Z"
    }
   },
   "outputs": [],
   "source": [
    "import tkinter as tk\n",
    "from tkinter import filedialog\n",
    "import vlc\n",
    "\n",
    "class ReproductorMultimedia:\n",
    "    def __init__(self, root):\n",
    "        self.root = root\n",
    "        self.root.title(\"Reproductor Multimedia\")\n",
    "        self.root.geometry(\"800x600\")\n",
    "\n",
    "        # Inicializar VLC player\n",
    "        self.vlc_player = vlc.MediaPlayer()\n",
    "\n",
    "        # Crear botones para cargar y reproducir\n",
    "        self.load_button = tk.Button(self.root, text=\"Cargar archivo\", command=self.cargar_archivo)\n",
    "        self.load_button.pack(pady=10)\n",
    "\n",
    "        self.play_button = tk.Button(self.root, text=\"Reproducir\", command=self.reproducir)\n",
    "        self.play_button.pack(pady=10)\n",
    "\n",
    "        self.pause_button = tk.Button(self.root, text=\"Pausar\", command=self.pausar)\n",
    "        self.pause_button.pack(pady=10)\n",
    "\n",
    "        self.stop_button = tk.Button(self.root, text=\"Detener\", command=self.detener)\n",
    "        self.stop_button.pack(pady=10)\n",
    "\n",
    "        # Etiqueta para mostrar el archivo cargado\n",
    "        self.label = tk.Label(self.root, text=\"No se ha cargado ningún archivo\")\n",
    "        self.label.pack(pady=10)\n",
    "\n",
    "        self.filepath = None\n",
    "\n",
    "    def cargar_archivo(self):\n",
    "        # Dialogo para cargar archivo\n",
    "        self.filepath = filedialog.askopenfilename(filetypes=[(\"Todos los archivos\", \"*.*\"), (\"Archivos de audio\", \"*.mp3 *.wav\"), (\"Archivos de video\", \"*.mp4 *.avi\")])\n",
    "        if self.filepath:\n",
    "            self.label.config(text=f\"Archivo cargado: {self.filepath}\")\n",
    "            self.vlc_player.set_media(vlc.Media(self.filepath))\n",
    "\n",
    "    def reproducir(self):\n",
    "        if self.filepath:\n",
    "            self.vlc_player.play()\n",
    "\n",
    "    def pausar(self):\n",
    "        if self.filepath:\n",
    "            self.vlc_player.pause()\n",
    "\n",
    "    def detener(self):\n",
    "        if self.filepath:\n",
    "            self.vlc_player.stop()\n",
    "\n",
    "# Crear la ventana principal\n",
    "root = tk.Tk()\n",
    "app = ReproductorMultimedia(root)\n",
    "root.mainloop()\n"
   ]
  },
  {
   "cell_type": "code",
   "execution_count": null,
   "id": "5a385cfe34eebfc5",
   "metadata": {
    "ExecuteTime": {
     "end_time": "2024-09-06T22:05:00.245090Z",
     "start_time": "2024-09-06T22:05:00.241794Z"
    }
   },
   "outputs": [],
   "source": []
  },
  {
   "cell_type": "code",
   "execution_count": null,
   "id": "e5b2f903635f882e",
   "metadata": {
    "ExecuteTime": {
     "end_time": "2024-09-06T22:05:02.165491Z",
     "start_time": "2024-09-06T22:05:02.159846Z"
    }
   },
   "outputs": [],
   "source": []
  }
 ],
 "metadata": {
  "kernelspec": {
   "display_name": "base",
   "language": "python",
   "name": "python3"
  },
  "language_info": {
   "codemirror_mode": {
    "name": "ipython",
    "version": 3
   },
   "file_extension": ".py",
   "mimetype": "text/x-python",
   "name": "python",
   "nbconvert_exporter": "python",
   "pygments_lexer": "ipython3",
   "version": "3.12.4"
  }
 },
 "nbformat": 4,
 "nbformat_minor": 5
}
